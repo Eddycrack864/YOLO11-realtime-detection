{
 "cells": [
  {
   "cell_type": "code",
   "execution_count": null,
   "metadata": {},
   "outputs": [],
   "source": [
    "#Obtener el status de YOLO\n",
    "import ultralytics\n",
    "ultralytics.checks()"
   ]
  },
  {
   "cell_type": "code",
   "execution_count": null,
   "metadata": {},
   "outputs": [],
   "source": [
    "#Cargar el dataset desde Roboflow\n",
    "from roboflow import Roboflow\n",
    "rf = Roboflow(api_key=\"moggKrpS4Ze7fwISLxQD\")\n",
    "project = rf.workspace(\"my-test-gumo0\").project(\"detectar-mangos\")\n",
    "version = project.version(2)\n",
    "dataset = version.download(\"yolov11\")"
   ]
  },
  {
   "cell_type": "code",
   "execution_count": null,
   "metadata": {},
   "outputs": [],
   "source": [
    "#Entrenar\n",
    "!yolo detect train model=yolo11x.pt data=/content/Detectar-Mangos-2/data.yaml epochs=30 imgsz=640 batch=8"
   ]
  }
 ],
 "metadata": {
  "language_info": {
   "name": "python"
  }
 },
 "nbformat": 4,
 "nbformat_minor": 2
}
